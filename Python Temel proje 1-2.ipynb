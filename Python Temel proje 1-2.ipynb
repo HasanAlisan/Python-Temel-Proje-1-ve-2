{
 "cells": [
  {
   "cell_type": "code",
   "execution_count": 155,
   "metadata": {},
   "outputs": [],
   "source": [
    "# Python Temel Proje 1\n",
    "\"\"\"\n",
    "1- Bir listeyi düzleştiren (flatten) fonksiyon yazın. Elemanları birden çok katmanlı listelerden \n",
    "([[3],2] gibi) oluşabileceği gibi, non-scalar verilerden de oluşabilir. \n",
    "\n",
    "Örnek olarak:\n",
    "input: [[1,'a',['cat'],2],[[[3]],'dog'],4,5]\n",
    "\n",
    "output: [1,'a','cat',2,3,'dog',4,5]\n",
    "\"\"\"\n",
    "\n",
    "l = [[1,'a',['cat'],2],[[[3]],'dog'],4,5]"
   ]
  },
  {
   "cell_type": "code",
   "execution_count": 170,
   "metadata": {},
   "outputs": [],
   "source": [
    "def flatten1(l):\n",
    "    listnew=[]\n",
    "    # Iterate through the outer list\n",
    "    for sublist1 in l:\n",
    "        # If the element is of type list, iterate through the sublist\n",
    "        if type(sublist1) is list:\n",
    "            for sublist2 in sublist1:\n",
    "                if type(sublist2) is list:\n",
    "                    for sublist3 in sublist2:\n",
    "                        if type(sublist3) is list:\n",
    "                            for sublist4 in sublist3:\n",
    "                                listnew.append(sublist4)\n",
    "                        else:\n",
    "                            listnew.append(sublist3) \n",
    "                else:\n",
    "                    listnew.append(sublist2)\n",
    "        else:\n",
    "            listnew.append(sublist1)\n",
    "            \n",
    "    return listnew    "
   ]
  },
  {
   "cell_type": "code",
   "execution_count": 171,
   "metadata": {},
   "outputs": [
    {
     "data": {
      "text/plain": [
       "[1, 'a', 'cat', 2, 3, 'dog', 4, 5]"
      ]
     },
     "execution_count": 171,
     "metadata": {},
     "output_type": "execute_result"
    }
   ],
   "source": [
    " flatten1(l)"
   ]
  },
  {
   "cell_type": "code",
   "execution_count": 174,
   "metadata": {},
   "outputs": [],
   "source": [
    "# Python Temel Proje 2\n",
    "\"\"\"\n",
    "2- Verilen listenin içindeki elemanları tersine döndüren bir fonksiyon yazın. Eğer listenin içindeki elemanlar da\n",
    "liste içeriyorsa onların elemanlarını da tersine döndürün. \n",
    "\n",
    "Örnek olarak:\n",
    "input: [[1, 2], [3, 4], [5, 6, 7]]\n",
    "\n",
    "output: [[[7, 6, 5], [4, 3], [2, 1]]\n",
    "\"\"\"\n",
    "\n",
    "reverse_list=[[1, 2], [3, 4], [5, 6, 7]]"
   ]
  },
  {
   "cell_type": "code",
   "execution_count": 217,
   "metadata": {},
   "outputs": [],
   "source": [
    "def reversed_list(reverse_list):   \n",
    "    reversed2=[]\n",
    "    for reversed in reverse_list:\n",
    "        reversed2.append(reversed[::-1])\n",
    "    reversed2=reversed2[::-1]\n",
    "        \n",
    "        \n",
    "    return reversed2\n"
   ]
  },
  {
   "cell_type": "code",
   "execution_count": 218,
   "metadata": {},
   "outputs": [
    {
     "data": {
      "text/plain": [
       "[[7, 6, 5], [4, 3], [2, 1]]"
      ]
     },
     "execution_count": 218,
     "metadata": {},
     "output_type": "execute_result"
    }
   ],
   "source": [
    "reversed_list(reverse_list)"
   ]
  },
  {
   "cell_type": "code",
   "execution_count": null,
   "metadata": {},
   "outputs": [],
   "source": []
  }
 ],
 "metadata": {
  "kernelspec": {
   "display_name": "Python 3",
   "language": "python",
   "name": "python3"
  },
  "language_info": {
   "codemirror_mode": {
    "name": "ipython",
    "version": 3
   },
   "file_extension": ".py",
   "mimetype": "text/x-python",
   "name": "python",
   "nbconvert_exporter": "python",
   "pygments_lexer": "ipython3",
   "version": "3.7.7"
  }
 },
 "nbformat": 4,
 "nbformat_minor": 4
}
